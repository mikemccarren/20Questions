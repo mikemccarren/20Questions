{
 "cells": [
  {
   "cell_type": "code",
   "execution_count": 1,
   "id": "4b2d4684",
   "metadata": {},
   "outputs": [],
   "source": [
    "import pandas as pd"
   ]
  },
  {
   "cell_type": "code",
   "execution_count": 24,
   "id": "bf22ebe5",
   "metadata": {},
   "outputs": [],
   "source": [
    "gamedata = pd.read_csv(\"gamedata.csv\")"
   ]
  },
  {
   "cell_type": "code",
   "execution_count": 25,
   "id": "28562e51",
   "metadata": {
    "scrolled": false
   },
   "outputs": [
    {
     "data": {
      "text/html": [
       "<div>\n",
       "<style scoped>\n",
       "    .dataframe tbody tr th:only-of-type {\n",
       "        vertical-align: middle;\n",
       "    }\n",
       "\n",
       "    .dataframe tbody tr th {\n",
       "        vertical-align: top;\n",
       "    }\n",
       "\n",
       "    .dataframe thead th {\n",
       "        text-align: right;\n",
       "    }\n",
       "</style>\n",
       "<table border=\"1\" class=\"dataframe\">\n",
       "  <thead>\n",
       "    <tr style=\"text-align: right;\">\n",
       "      <th></th>\n",
       "      <th>Animal</th>\n",
       "      <th>Does it like milk?</th>\n",
       "      <th>Does it have four legs?</th>\n",
       "      <th>Does it like bones?</th>\n",
       "      <th>Can it swim?</th>\n",
       "    </tr>\n",
       "  </thead>\n",
       "  <tbody>\n",
       "    <tr>\n",
       "      <th>0</th>\n",
       "      <td>a cat</td>\n",
       "      <td>yes</td>\n",
       "      <td>yes</td>\n",
       "      <td>no</td>\n",
       "      <td>yes</td>\n",
       "    </tr>\n",
       "    <tr>\n",
       "      <th>1</th>\n",
       "      <td>a dog</td>\n",
       "      <td>no</td>\n",
       "      <td>yes</td>\n",
       "      <td>yes</td>\n",
       "      <td>yes</td>\n",
       "    </tr>\n",
       "    <tr>\n",
       "      <th>2</th>\n",
       "      <td>a fish</td>\n",
       "      <td>no</td>\n",
       "      <td>no</td>\n",
       "      <td>no</td>\n",
       "      <td>yes</td>\n",
       "    </tr>\n",
       "  </tbody>\n",
       "</table>\n",
       "</div>"
      ],
      "text/plain": [
       "   Animal Does it like milk? Does it have four legs? Does it like bones?  \\\n",
       "0   a cat                yes                     yes                  no   \n",
       "1   a dog                 no                     yes                 yes   \n",
       "2  a fish                 no                      no                  no   \n",
       "\n",
       "  Can it swim?  \n",
       "0          yes  \n",
       "1          yes  \n",
       "2          yes  "
      ]
     },
     "execution_count": 25,
     "metadata": {},
     "output_type": "execute_result"
    }
   ],
   "source": [
    "gamedata"
   ]
  },
  {
   "cell_type": "code",
   "execution_count": 26,
   "id": "80f02683",
   "metadata": {},
   "outputs": [],
   "source": [
    "gamedata['Does it live on a farm?'] = None"
   ]
  },
  {
   "cell_type": "code",
   "execution_count": 27,
   "id": "00267a46",
   "metadata": {},
   "outputs": [],
   "source": [
    "def add_animal(df):\n",
    "    \"\"\"\n",
    "    get answers about a new animal\n",
    "    \"\"\"\n",
    "    newdf = df.copy()\n",
    "    new_animal = []\n",
    "    new_animal.append(input(\"What animal are you thinking of? (a/an) \"))\n",
    "    questions = newdf.columns.to_list()[1:]\n",
    "    for question in questions:\n",
    "        new_animal.append(input(question+' '))\n",
    "    newdf.loc[len(newdf)] = new_animal\n",
    "    return newdf"
   ]
  },
  {
   "cell_type": "code",
   "execution_count": 28,
   "id": "667d440f",
   "metadata": {},
   "outputs": [],
   "source": [
    "def add_question(df):\n",
    "    \"\"\"\n",
    "    Add a question and supply default values to all new cells\n",
    "    \"\"\"\n",
    "    newdf = df.copy()\n",
    "    new_question=input('Give me a new question to ask: ')\n",
    "    newdf[new_question] = None\n",
    "    return newdf"
   ]
  },
  {
   "cell_type": "code",
   "execution_count": 29,
   "id": "096c1d00",
   "metadata": {},
   "outputs": [],
   "source": [
    "def update_gamedata(df):\n",
    "    newdf = df.copy()\n",
    "    missing = newdf.isna().any()\n",
    "    for m in range(missing.size):\n",
    "        animals = newdf['Animal']\n",
    "        if (missing[m]):\n",
    "            question = newdf.columns.to_list()[m]\n",
    "            for a in range(newdf.shape[0]):\n",
    "                answer = input (\"Tell me about \" + animals[a] + \". \" + question + \" \")\n",
    "                newdf.at[a,question] = answer\n",
    "    return newdf"
   ]
  },
  {
   "cell_type": "code",
   "execution_count": 30,
   "id": "fe967e4c",
   "metadata": {},
   "outputs": [
    {
     "data": {
      "text/html": [
       "<div>\n",
       "<style scoped>\n",
       "    .dataframe tbody tr th:only-of-type {\n",
       "        vertical-align: middle;\n",
       "    }\n",
       "\n",
       "    .dataframe tbody tr th {\n",
       "        vertical-align: top;\n",
       "    }\n",
       "\n",
       "    .dataframe thead th {\n",
       "        text-align: right;\n",
       "    }\n",
       "</style>\n",
       "<table border=\"1\" class=\"dataframe\">\n",
       "  <thead>\n",
       "    <tr style=\"text-align: right;\">\n",
       "      <th></th>\n",
       "      <th>Animal</th>\n",
       "      <th>Does it like milk?</th>\n",
       "      <th>Does it have four legs?</th>\n",
       "      <th>Does it like bones?</th>\n",
       "      <th>Can it swim?</th>\n",
       "      <th>Does it live on a farm?</th>\n",
       "    </tr>\n",
       "  </thead>\n",
       "  <tbody>\n",
       "    <tr>\n",
       "      <th>0</th>\n",
       "      <td>a cat</td>\n",
       "      <td>yes</td>\n",
       "      <td>yes</td>\n",
       "      <td>no</td>\n",
       "      <td>yes</td>\n",
       "      <td>None</td>\n",
       "    </tr>\n",
       "    <tr>\n",
       "      <th>1</th>\n",
       "      <td>a dog</td>\n",
       "      <td>no</td>\n",
       "      <td>yes</td>\n",
       "      <td>yes</td>\n",
       "      <td>yes</td>\n",
       "      <td>None</td>\n",
       "    </tr>\n",
       "    <tr>\n",
       "      <th>2</th>\n",
       "      <td>a fish</td>\n",
       "      <td>no</td>\n",
       "      <td>no</td>\n",
       "      <td>no</td>\n",
       "      <td>yes</td>\n",
       "      <td>None</td>\n",
       "    </tr>\n",
       "  </tbody>\n",
       "</table>\n",
       "</div>"
      ],
      "text/plain": [
       "   Animal Does it like milk? Does it have four legs? Does it like bones?  \\\n",
       "0   a cat                yes                     yes                  no   \n",
       "1   a dog                 no                     yes                 yes   \n",
       "2  a fish                 no                      no                  no   \n",
       "\n",
       "  Can it swim? Does it live on a farm?  \n",
       "0          yes                    None  \n",
       "1          yes                    None  \n",
       "2          yes                    None  "
      ]
     },
     "execution_count": 30,
     "metadata": {},
     "output_type": "execute_result"
    }
   ],
   "source": [
    "gamedata"
   ]
  },
  {
   "cell_type": "code",
   "execution_count": 31,
   "id": "530e7b31",
   "metadata": {},
   "outputs": [
    {
     "name": "stdout",
     "output_type": "stream",
     "text": [
      "What animal are you thinking of? (a/an) a horse\n",
      "Does it like milk? no\n",
      "Does it have four legs? yes\n",
      "Does it like bones? no\n",
      "Can it swim? yes\n",
      "Does it live on a farm? yes\n"
     ]
    }
   ],
   "source": [
    "gamedata = add_animal(gamedata)"
   ]
  },
  {
   "cell_type": "code",
   "execution_count": 32,
   "id": "1167ca93",
   "metadata": {},
   "outputs": [
    {
     "data": {
      "text/html": [
       "<div>\n",
       "<style scoped>\n",
       "    .dataframe tbody tr th:only-of-type {\n",
       "        vertical-align: middle;\n",
       "    }\n",
       "\n",
       "    .dataframe tbody tr th {\n",
       "        vertical-align: top;\n",
       "    }\n",
       "\n",
       "    .dataframe thead th {\n",
       "        text-align: right;\n",
       "    }\n",
       "</style>\n",
       "<table border=\"1\" class=\"dataframe\">\n",
       "  <thead>\n",
       "    <tr style=\"text-align: right;\">\n",
       "      <th></th>\n",
       "      <th>Animal</th>\n",
       "      <th>Does it like milk?</th>\n",
       "      <th>Does it have four legs?</th>\n",
       "      <th>Does it like bones?</th>\n",
       "      <th>Can it swim?</th>\n",
       "      <th>Does it live on a farm?</th>\n",
       "    </tr>\n",
       "  </thead>\n",
       "  <tbody>\n",
       "    <tr>\n",
       "      <th>0</th>\n",
       "      <td>a cat</td>\n",
       "      <td>yes</td>\n",
       "      <td>yes</td>\n",
       "      <td>no</td>\n",
       "      <td>yes</td>\n",
       "      <td>None</td>\n",
       "    </tr>\n",
       "    <tr>\n",
       "      <th>1</th>\n",
       "      <td>a dog</td>\n",
       "      <td>no</td>\n",
       "      <td>yes</td>\n",
       "      <td>yes</td>\n",
       "      <td>yes</td>\n",
       "      <td>None</td>\n",
       "    </tr>\n",
       "    <tr>\n",
       "      <th>2</th>\n",
       "      <td>a fish</td>\n",
       "      <td>no</td>\n",
       "      <td>no</td>\n",
       "      <td>no</td>\n",
       "      <td>yes</td>\n",
       "      <td>None</td>\n",
       "    </tr>\n",
       "    <tr>\n",
       "      <th>3</th>\n",
       "      <td>a horse</td>\n",
       "      <td>no</td>\n",
       "      <td>yes</td>\n",
       "      <td>no</td>\n",
       "      <td>yes</td>\n",
       "      <td>yes</td>\n",
       "    </tr>\n",
       "  </tbody>\n",
       "</table>\n",
       "</div>"
      ],
      "text/plain": [
       "    Animal Does it like milk? Does it have four legs? Does it like bones?  \\\n",
       "0    a cat                yes                     yes                  no   \n",
       "1    a dog                 no                     yes                 yes   \n",
       "2   a fish                 no                      no                  no   \n",
       "3  a horse                 no                     yes                  no   \n",
       "\n",
       "  Can it swim? Does it live on a farm?  \n",
       "0          yes                    None  \n",
       "1          yes                    None  \n",
       "2          yes                    None  \n",
       "3          yes                     yes  "
      ]
     },
     "execution_count": 32,
     "metadata": {},
     "output_type": "execute_result"
    }
   ],
   "source": [
    "gamedata"
   ]
  },
  {
   "cell_type": "code",
   "execution_count": 33,
   "id": "b5ea9098",
   "metadata": {},
   "outputs": [
    {
     "name": "stdout",
     "output_type": "stream",
     "text": [
      "Give me a new question to ask: Does it have feathers?\n"
     ]
    }
   ],
   "source": [
    "gamedata = add_question(gamedata)"
   ]
  },
  {
   "cell_type": "code",
   "execution_count": 34,
   "id": "0874648a",
   "metadata": {},
   "outputs": [
    {
     "data": {
      "text/html": [
       "<div>\n",
       "<style scoped>\n",
       "    .dataframe tbody tr th:only-of-type {\n",
       "        vertical-align: middle;\n",
       "    }\n",
       "\n",
       "    .dataframe tbody tr th {\n",
       "        vertical-align: top;\n",
       "    }\n",
       "\n",
       "    .dataframe thead th {\n",
       "        text-align: right;\n",
       "    }\n",
       "</style>\n",
       "<table border=\"1\" class=\"dataframe\">\n",
       "  <thead>\n",
       "    <tr style=\"text-align: right;\">\n",
       "      <th></th>\n",
       "      <th>Animal</th>\n",
       "      <th>Does it like milk?</th>\n",
       "      <th>Does it have four legs?</th>\n",
       "      <th>Does it like bones?</th>\n",
       "      <th>Can it swim?</th>\n",
       "      <th>Does it live on a farm?</th>\n",
       "      <th>Does it have feathers?</th>\n",
       "    </tr>\n",
       "  </thead>\n",
       "  <tbody>\n",
       "    <tr>\n",
       "      <th>0</th>\n",
       "      <td>a cat</td>\n",
       "      <td>yes</td>\n",
       "      <td>yes</td>\n",
       "      <td>no</td>\n",
       "      <td>yes</td>\n",
       "      <td>None</td>\n",
       "      <td>None</td>\n",
       "    </tr>\n",
       "    <tr>\n",
       "      <th>1</th>\n",
       "      <td>a dog</td>\n",
       "      <td>no</td>\n",
       "      <td>yes</td>\n",
       "      <td>yes</td>\n",
       "      <td>yes</td>\n",
       "      <td>None</td>\n",
       "      <td>None</td>\n",
       "    </tr>\n",
       "    <tr>\n",
       "      <th>2</th>\n",
       "      <td>a fish</td>\n",
       "      <td>no</td>\n",
       "      <td>no</td>\n",
       "      <td>no</td>\n",
       "      <td>yes</td>\n",
       "      <td>None</td>\n",
       "      <td>None</td>\n",
       "    </tr>\n",
       "    <tr>\n",
       "      <th>3</th>\n",
       "      <td>a horse</td>\n",
       "      <td>no</td>\n",
       "      <td>yes</td>\n",
       "      <td>no</td>\n",
       "      <td>yes</td>\n",
       "      <td>yes</td>\n",
       "      <td>None</td>\n",
       "    </tr>\n",
       "  </tbody>\n",
       "</table>\n",
       "</div>"
      ],
      "text/plain": [
       "    Animal Does it like milk? Does it have four legs? Does it like bones?  \\\n",
       "0    a cat                yes                     yes                  no   \n",
       "1    a dog                 no                     yes                 yes   \n",
       "2   a fish                 no                      no                  no   \n",
       "3  a horse                 no                     yes                  no   \n",
       "\n",
       "  Can it swim? Does it live on a farm? Does it have feathers?  \n",
       "0          yes                    None                   None  \n",
       "1          yes                    None                   None  \n",
       "2          yes                    None                   None  \n",
       "3          yes                     yes                   None  "
      ]
     },
     "execution_count": 34,
     "metadata": {},
     "output_type": "execute_result"
    }
   ],
   "source": [
    "gamedata"
   ]
  },
  {
   "cell_type": "code",
   "execution_count": 35,
   "id": "edbe72a3",
   "metadata": {},
   "outputs": [
    {
     "name": "stdout",
     "output_type": "stream",
     "text": [
      "Tell me about a cat. Does it live on a farm? no\n",
      "Tell me about a dog. Does it live on a farm? no\n",
      "Tell me about a fish. Does it live on a farm? no\n",
      "Tell me about a horse. Does it live on a farm? yes\n",
      "Tell me about a cat. Does it have feathers? no\n",
      "Tell me about a dog. Does it have feathers? no\n",
      "Tell me about a fish. Does it have feathers? no\n",
      "Tell me about a horse. Does it have feathers? no\n"
     ]
    }
   ],
   "source": [
    "gamedata = update_gamedata(gamedata)"
   ]
  },
  {
   "cell_type": "code",
   "execution_count": 36,
   "id": "fa442f33",
   "metadata": {},
   "outputs": [
    {
     "data": {
      "text/html": [
       "<div>\n",
       "<style scoped>\n",
       "    .dataframe tbody tr th:only-of-type {\n",
       "        vertical-align: middle;\n",
       "    }\n",
       "\n",
       "    .dataframe tbody tr th {\n",
       "        vertical-align: top;\n",
       "    }\n",
       "\n",
       "    .dataframe thead th {\n",
       "        text-align: right;\n",
       "    }\n",
       "</style>\n",
       "<table border=\"1\" class=\"dataframe\">\n",
       "  <thead>\n",
       "    <tr style=\"text-align: right;\">\n",
       "      <th></th>\n",
       "      <th>Animal</th>\n",
       "      <th>Does it like milk?</th>\n",
       "      <th>Does it have four legs?</th>\n",
       "      <th>Does it like bones?</th>\n",
       "      <th>Can it swim?</th>\n",
       "      <th>Does it live on a farm?</th>\n",
       "      <th>Does it have feathers?</th>\n",
       "    </tr>\n",
       "  </thead>\n",
       "  <tbody>\n",
       "    <tr>\n",
       "      <th>0</th>\n",
       "      <td>a cat</td>\n",
       "      <td>yes</td>\n",
       "      <td>yes</td>\n",
       "      <td>no</td>\n",
       "      <td>yes</td>\n",
       "      <td>no</td>\n",
       "      <td>no</td>\n",
       "    </tr>\n",
       "    <tr>\n",
       "      <th>1</th>\n",
       "      <td>a dog</td>\n",
       "      <td>no</td>\n",
       "      <td>yes</td>\n",
       "      <td>yes</td>\n",
       "      <td>yes</td>\n",
       "      <td>no</td>\n",
       "      <td>no</td>\n",
       "    </tr>\n",
       "    <tr>\n",
       "      <th>2</th>\n",
       "      <td>a fish</td>\n",
       "      <td>no</td>\n",
       "      <td>no</td>\n",
       "      <td>no</td>\n",
       "      <td>yes</td>\n",
       "      <td>no</td>\n",
       "      <td>no</td>\n",
       "    </tr>\n",
       "    <tr>\n",
       "      <th>3</th>\n",
       "      <td>a horse</td>\n",
       "      <td>no</td>\n",
       "      <td>yes</td>\n",
       "      <td>no</td>\n",
       "      <td>yes</td>\n",
       "      <td>yes</td>\n",
       "      <td>no</td>\n",
       "    </tr>\n",
       "  </tbody>\n",
       "</table>\n",
       "</div>"
      ],
      "text/plain": [
       "    Animal Does it like milk? Does it have four legs? Does it like bones?  \\\n",
       "0    a cat                yes                     yes                  no   \n",
       "1    a dog                 no                     yes                 yes   \n",
       "2   a fish                 no                      no                  no   \n",
       "3  a horse                 no                     yes                  no   \n",
       "\n",
       "  Can it swim? Does it live on a farm? Does it have feathers?  \n",
       "0          yes                      no                     no  \n",
       "1          yes                      no                     no  \n",
       "2          yes                      no                     no  \n",
       "3          yes                     yes                     no  "
      ]
     },
     "execution_count": 36,
     "metadata": {},
     "output_type": "execute_result"
    }
   ],
   "source": [
    "gamedata"
   ]
  },
  {
   "cell_type": "code",
   "execution_count": 37,
   "id": "2e21c61a",
   "metadata": {},
   "outputs": [
    {
     "name": "stdout",
     "output_type": "stream",
     "text": [
      "What animal are you thinking of? (a/an) a chicken\n",
      "Does it like milk? no\n",
      "Does it have four legs? no\n",
      "Does it like bones? no\n",
      "Can it swim? no\n",
      "Does it live on a farm? yes\n",
      "Does it have feathers? yes\n"
     ]
    }
   ],
   "source": [
    "gamedata = add_animal(gamedata)"
   ]
  },
  {
   "cell_type": "code",
   "execution_count": 38,
   "id": "d4b58733",
   "metadata": {},
   "outputs": [
    {
     "data": {
      "text/html": [
       "<div>\n",
       "<style scoped>\n",
       "    .dataframe tbody tr th:only-of-type {\n",
       "        vertical-align: middle;\n",
       "    }\n",
       "\n",
       "    .dataframe tbody tr th {\n",
       "        vertical-align: top;\n",
       "    }\n",
       "\n",
       "    .dataframe thead th {\n",
       "        text-align: right;\n",
       "    }\n",
       "</style>\n",
       "<table border=\"1\" class=\"dataframe\">\n",
       "  <thead>\n",
       "    <tr style=\"text-align: right;\">\n",
       "      <th></th>\n",
       "      <th>Animal</th>\n",
       "      <th>Does it like milk?</th>\n",
       "      <th>Does it have four legs?</th>\n",
       "      <th>Does it like bones?</th>\n",
       "      <th>Can it swim?</th>\n",
       "      <th>Does it live on a farm?</th>\n",
       "      <th>Does it have feathers?</th>\n",
       "    </tr>\n",
       "  </thead>\n",
       "  <tbody>\n",
       "    <tr>\n",
       "      <th>0</th>\n",
       "      <td>a cat</td>\n",
       "      <td>yes</td>\n",
       "      <td>yes</td>\n",
       "      <td>no</td>\n",
       "      <td>yes</td>\n",
       "      <td>no</td>\n",
       "      <td>no</td>\n",
       "    </tr>\n",
       "    <tr>\n",
       "      <th>1</th>\n",
       "      <td>a dog</td>\n",
       "      <td>no</td>\n",
       "      <td>yes</td>\n",
       "      <td>yes</td>\n",
       "      <td>yes</td>\n",
       "      <td>no</td>\n",
       "      <td>no</td>\n",
       "    </tr>\n",
       "    <tr>\n",
       "      <th>2</th>\n",
       "      <td>a fish</td>\n",
       "      <td>no</td>\n",
       "      <td>no</td>\n",
       "      <td>no</td>\n",
       "      <td>yes</td>\n",
       "      <td>no</td>\n",
       "      <td>no</td>\n",
       "    </tr>\n",
       "    <tr>\n",
       "      <th>3</th>\n",
       "      <td>a horse</td>\n",
       "      <td>no</td>\n",
       "      <td>yes</td>\n",
       "      <td>no</td>\n",
       "      <td>yes</td>\n",
       "      <td>yes</td>\n",
       "      <td>no</td>\n",
       "    </tr>\n",
       "    <tr>\n",
       "      <th>4</th>\n",
       "      <td>a chicken</td>\n",
       "      <td>no</td>\n",
       "      <td>no</td>\n",
       "      <td>no</td>\n",
       "      <td>no</td>\n",
       "      <td>yes</td>\n",
       "      <td>yes</td>\n",
       "    </tr>\n",
       "  </tbody>\n",
       "</table>\n",
       "</div>"
      ],
      "text/plain": [
       "      Animal Does it like milk? Does it have four legs? Does it like bones?  \\\n",
       "0      a cat                yes                     yes                  no   \n",
       "1      a dog                 no                     yes                 yes   \n",
       "2     a fish                 no                      no                  no   \n",
       "3    a horse                 no                     yes                  no   \n",
       "4  a chicken                 no                      no                  no   \n",
       "\n",
       "  Can it swim? Does it live on a farm? Does it have feathers?  \n",
       "0          yes                      no                     no  \n",
       "1          yes                      no                     no  \n",
       "2          yes                      no                     no  \n",
       "3          yes                     yes                     no  \n",
       "4           no                     yes                    yes  "
      ]
     },
     "execution_count": 38,
     "metadata": {},
     "output_type": "execute_result"
    }
   ],
   "source": [
    "gamedata"
   ]
  },
  {
   "cell_type": "code",
   "execution_count": 39,
   "id": "6afb928e",
   "metadata": {},
   "outputs": [],
   "source": [
    "gamedata = update_gamedata(gamedata)"
   ]
  },
  {
   "cell_type": "code",
   "execution_count": 40,
   "id": "dd42496c",
   "metadata": {},
   "outputs": [
    {
     "data": {
      "text/html": [
       "<div>\n",
       "<style scoped>\n",
       "    .dataframe tbody tr th:only-of-type {\n",
       "        vertical-align: middle;\n",
       "    }\n",
       "\n",
       "    .dataframe tbody tr th {\n",
       "        vertical-align: top;\n",
       "    }\n",
       "\n",
       "    .dataframe thead th {\n",
       "        text-align: right;\n",
       "    }\n",
       "</style>\n",
       "<table border=\"1\" class=\"dataframe\">\n",
       "  <thead>\n",
       "    <tr style=\"text-align: right;\">\n",
       "      <th></th>\n",
       "      <th>Animal</th>\n",
       "      <th>Does it like milk?</th>\n",
       "      <th>Does it have four legs?</th>\n",
       "      <th>Does it like bones?</th>\n",
       "      <th>Can it swim?</th>\n",
       "      <th>Does it live on a farm?</th>\n",
       "      <th>Does it have feathers?</th>\n",
       "    </tr>\n",
       "  </thead>\n",
       "  <tbody>\n",
       "    <tr>\n",
       "      <th>0</th>\n",
       "      <td>a cat</td>\n",
       "      <td>yes</td>\n",
       "      <td>yes</td>\n",
       "      <td>no</td>\n",
       "      <td>yes</td>\n",
       "      <td>no</td>\n",
       "      <td>no</td>\n",
       "    </tr>\n",
       "    <tr>\n",
       "      <th>1</th>\n",
       "      <td>a dog</td>\n",
       "      <td>no</td>\n",
       "      <td>yes</td>\n",
       "      <td>yes</td>\n",
       "      <td>yes</td>\n",
       "      <td>no</td>\n",
       "      <td>no</td>\n",
       "    </tr>\n",
       "    <tr>\n",
       "      <th>2</th>\n",
       "      <td>a fish</td>\n",
       "      <td>no</td>\n",
       "      <td>no</td>\n",
       "      <td>no</td>\n",
       "      <td>yes</td>\n",
       "      <td>no</td>\n",
       "      <td>no</td>\n",
       "    </tr>\n",
       "    <tr>\n",
       "      <th>3</th>\n",
       "      <td>a horse</td>\n",
       "      <td>no</td>\n",
       "      <td>yes</td>\n",
       "      <td>no</td>\n",
       "      <td>yes</td>\n",
       "      <td>yes</td>\n",
       "      <td>no</td>\n",
       "    </tr>\n",
       "    <tr>\n",
       "      <th>4</th>\n",
       "      <td>a chicken</td>\n",
       "      <td>no</td>\n",
       "      <td>no</td>\n",
       "      <td>no</td>\n",
       "      <td>no</td>\n",
       "      <td>yes</td>\n",
       "      <td>yes</td>\n",
       "    </tr>\n",
       "  </tbody>\n",
       "</table>\n",
       "</div>"
      ],
      "text/plain": [
       "      Animal Does it like milk? Does it have four legs? Does it like bones?  \\\n",
       "0      a cat                yes                     yes                  no   \n",
       "1      a dog                 no                     yes                 yes   \n",
       "2     a fish                 no                      no                  no   \n",
       "3    a horse                 no                     yes                  no   \n",
       "4  a chicken                 no                      no                  no   \n",
       "\n",
       "  Can it swim? Does it live on a farm? Does it have feathers?  \n",
       "0          yes                      no                     no  \n",
       "1          yes                      no                     no  \n",
       "2          yes                      no                     no  \n",
       "3          yes                     yes                     no  \n",
       "4           no                     yes                    yes  "
      ]
     },
     "execution_count": 40,
     "metadata": {},
     "output_type": "execute_result"
    }
   ],
   "source": [
    "gamedata"
   ]
  },
  {
   "cell_type": "code",
   "execution_count": 41,
   "id": "2694bdd0",
   "metadata": {},
   "outputs": [
    {
     "name": "stdout",
     "output_type": "stream",
     "text": [
      "Give me a new question to ask: Can it jump?\n"
     ]
    }
   ],
   "source": [
    "gamedata = add_question(gamedata)"
   ]
  },
  {
   "cell_type": "code",
   "execution_count": 42,
   "id": "e9066f8e",
   "metadata": {},
   "outputs": [
    {
     "name": "stdout",
     "output_type": "stream",
     "text": [
      "Tell me about a cat. Can it jump? yes\n",
      "Tell me about a dog. Can it jump? yes\n",
      "Tell me about a fish. Can it jump? yes\n",
      "Tell me about a horse. Can it jump? yes\n",
      "Tell me about a chicken. Can it jump? no\n"
     ]
    }
   ],
   "source": [
    "gamedata = update_gamedata(gamedata)"
   ]
  },
  {
   "cell_type": "code",
   "execution_count": 43,
   "id": "0090e501",
   "metadata": {},
   "outputs": [
    {
     "data": {
      "text/html": [
       "<div>\n",
       "<style scoped>\n",
       "    .dataframe tbody tr th:only-of-type {\n",
       "        vertical-align: middle;\n",
       "    }\n",
       "\n",
       "    .dataframe tbody tr th {\n",
       "        vertical-align: top;\n",
       "    }\n",
       "\n",
       "    .dataframe thead th {\n",
       "        text-align: right;\n",
       "    }\n",
       "</style>\n",
       "<table border=\"1\" class=\"dataframe\">\n",
       "  <thead>\n",
       "    <tr style=\"text-align: right;\">\n",
       "      <th></th>\n",
       "      <th>Animal</th>\n",
       "      <th>Does it like milk?</th>\n",
       "      <th>Does it have four legs?</th>\n",
       "      <th>Does it like bones?</th>\n",
       "      <th>Can it swim?</th>\n",
       "      <th>Does it live on a farm?</th>\n",
       "      <th>Does it have feathers?</th>\n",
       "      <th>Can it jump?</th>\n",
       "    </tr>\n",
       "  </thead>\n",
       "  <tbody>\n",
       "    <tr>\n",
       "      <th>0</th>\n",
       "      <td>a cat</td>\n",
       "      <td>yes</td>\n",
       "      <td>yes</td>\n",
       "      <td>no</td>\n",
       "      <td>yes</td>\n",
       "      <td>no</td>\n",
       "      <td>no</td>\n",
       "      <td>yes</td>\n",
       "    </tr>\n",
       "    <tr>\n",
       "      <th>1</th>\n",
       "      <td>a dog</td>\n",
       "      <td>no</td>\n",
       "      <td>yes</td>\n",
       "      <td>yes</td>\n",
       "      <td>yes</td>\n",
       "      <td>no</td>\n",
       "      <td>no</td>\n",
       "      <td>yes</td>\n",
       "    </tr>\n",
       "    <tr>\n",
       "      <th>2</th>\n",
       "      <td>a fish</td>\n",
       "      <td>no</td>\n",
       "      <td>no</td>\n",
       "      <td>no</td>\n",
       "      <td>yes</td>\n",
       "      <td>no</td>\n",
       "      <td>no</td>\n",
       "      <td>yes</td>\n",
       "    </tr>\n",
       "    <tr>\n",
       "      <th>3</th>\n",
       "      <td>a horse</td>\n",
       "      <td>no</td>\n",
       "      <td>yes</td>\n",
       "      <td>no</td>\n",
       "      <td>yes</td>\n",
       "      <td>yes</td>\n",
       "      <td>no</td>\n",
       "      <td>yes</td>\n",
       "    </tr>\n",
       "    <tr>\n",
       "      <th>4</th>\n",
       "      <td>a chicken</td>\n",
       "      <td>no</td>\n",
       "      <td>no</td>\n",
       "      <td>no</td>\n",
       "      <td>no</td>\n",
       "      <td>yes</td>\n",
       "      <td>yes</td>\n",
       "      <td>no</td>\n",
       "    </tr>\n",
       "  </tbody>\n",
       "</table>\n",
       "</div>"
      ],
      "text/plain": [
       "      Animal Does it like milk? Does it have four legs? Does it like bones?  \\\n",
       "0      a cat                yes                     yes                  no   \n",
       "1      a dog                 no                     yes                 yes   \n",
       "2     a fish                 no                      no                  no   \n",
       "3    a horse                 no                     yes                  no   \n",
       "4  a chicken                 no                      no                  no   \n",
       "\n",
       "  Can it swim? Does it live on a farm? Does it have feathers? Can it jump?  \n",
       "0          yes                      no                     no          yes  \n",
       "1          yes                      no                     no          yes  \n",
       "2          yes                      no                     no          yes  \n",
       "3          yes                     yes                     no          yes  \n",
       "4           no                     yes                    yes           no  "
      ]
     },
     "execution_count": 43,
     "metadata": {},
     "output_type": "execute_result"
    }
   ],
   "source": [
    "gamedata"
   ]
  },
  {
   "cell_type": "code",
   "execution_count": 45,
   "id": "1c1ba1a7",
   "metadata": {},
   "outputs": [],
   "source": [
    "gamedata.to_csv(\"milestone3.csv\")"
   ]
  },
  {
   "cell_type": "code",
   "execution_count": null,
   "id": "c39c88d4",
   "metadata": {},
   "outputs": [],
   "source": []
  }
 ],
 "metadata": {
  "kernelspec": {
   "display_name": "Python 3 (ipykernel)",
   "language": "python",
   "name": "python3"
  },
  "language_info": {
   "codemirror_mode": {
    "name": "ipython",
    "version": 3
   },
   "file_extension": ".py",
   "mimetype": "text/x-python",
   "name": "python",
   "nbconvert_exporter": "python",
   "pygments_lexer": "ipython3",
   "version": "3.8.8"
  }
 },
 "nbformat": 4,
 "nbformat_minor": 5
}
